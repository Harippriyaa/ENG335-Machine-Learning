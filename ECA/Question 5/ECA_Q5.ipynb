{
  "nbformat": 4,
  "nbformat_minor": 0,
  "metadata": {
    "colab": {
      "provenance": []
    },
    "kernelspec": {
      "name": "python3",
      "display_name": "Python 3"
    },
    "language_info": {
      "name": "python"
    }
  },
  "cells": [
    {
      "cell_type": "markdown",
      "source": [
        "## Import libraries"
      ],
      "metadata": {
        "id": "b_y4iygJIeTb"
      }
    },
    {
      "cell_type": "code",
      "execution_count": 1,
      "metadata": {
        "id": "KuIa6ZXNLWIj"
      },
      "outputs": [],
      "source": [
        "#import necessary libraries\n",
        "\n",
        "import numpy as np\n",
        "import pandas as pd\n",
        "import matplotlib.pyplot as plt\n",
        "import seaborn as sns\n",
        "from sklearn.preprocessing import MinMaxScaler\n",
        "from keras.models import Sequential\n",
        "from keras.layers import Embedding, SimpleRNN\n",
        "from keras.layers import Dense\n",
        "from keras.layers import LSTM"
      ]
    },
    {
      "cell_type": "markdown",
      "source": [
        "## Load and Perform simple EDA for Singtel Stock"
      ],
      "metadata": {
        "id": "Ff2OnclAIhIo"
      }
    },
    {
      "cell_type": "code",
      "source": [
        "#import the stock dataset of Singtel. It is listed on the Singapore stock exchange\n",
        "singtel_df = pd.read_csv(\"/content/singtel.csv\", index_col='Date', parse_dates=['Date'])\n",
        "\n",
        "#Copy dataframe to a new variable to avoid any accidental changes in the original data\n",
        "singtel_df_new = singtel_df.copy()\n",
        "\n",
        "#Display the dataframe\n",
        "display(singtel_df_new)"
      ],
      "metadata": {
        "colab": {
          "base_uri": "https://localhost:8080/",
          "height": 574
        },
        "id": "mnhQN4XZ05fM",
        "outputId": "f2ff409c-e976-4aa0-d2e6-d4e05fa9fdf4"
      },
      "execution_count": 2,
      "outputs": [
        {
          "output_type": "display_data",
          "data": {
            "text/plain": [
              "            Open  High   Low  Close  Adj Close    Volume\n",
              "Date                                                    \n",
              "2014-01-02  3.68  3.69  3.65   3.66   2.496178   7280000\n",
              "2014-01-03  3.65  3.66  3.59   3.60   2.455256  13827000\n",
              "2014-01-06  3.59  3.59  3.52   3.54   2.414336  20800000\n",
              "2014-01-07  3.54  3.57  3.53   3.54   2.414336  22746000\n",
              "2014-01-08  3.56  3.57  3.54   3.55   2.421156  14599000\n",
              "...          ...   ...   ...    ...        ...       ...\n",
              "2022-12-23  2.58  2.59  2.56   2.57   2.545663   8518500\n",
              "2022-12-27  2.59  2.60  2.58   2.58   2.555568   6353800\n",
              "2022-12-28  2.58  2.59  2.56   2.58   2.555568   9060100\n",
              "2022-12-29  2.57  2.57  2.55   2.56   2.535758  15897600\n",
              "2022-12-30  2.58  2.59  2.56   2.57   2.545663   9788500\n",
              "\n",
              "[2262 rows x 6 columns]"
            ],
            "text/html": [
              "\n",
              "  <div id=\"df-59abafe2-ab02-4f06-bcf3-78aa1034302e\" class=\"colab-df-container\">\n",
              "    <div>\n",
              "<style scoped>\n",
              "    .dataframe tbody tr th:only-of-type {\n",
              "        vertical-align: middle;\n",
              "    }\n",
              "\n",
              "    .dataframe tbody tr th {\n",
              "        vertical-align: top;\n",
              "    }\n",
              "\n",
              "    .dataframe thead th {\n",
              "        text-align: right;\n",
              "    }\n",
              "</style>\n",
              "<table border=\"1\" class=\"dataframe\">\n",
              "  <thead>\n",
              "    <tr style=\"text-align: right;\">\n",
              "      <th></th>\n",
              "      <th>Open</th>\n",
              "      <th>High</th>\n",
              "      <th>Low</th>\n",
              "      <th>Close</th>\n",
              "      <th>Adj Close</th>\n",
              "      <th>Volume</th>\n",
              "    </tr>\n",
              "    <tr>\n",
              "      <th>Date</th>\n",
              "      <th></th>\n",
              "      <th></th>\n",
              "      <th></th>\n",
              "      <th></th>\n",
              "      <th></th>\n",
              "      <th></th>\n",
              "    </tr>\n",
              "  </thead>\n",
              "  <tbody>\n",
              "    <tr>\n",
              "      <th>2014-01-02</th>\n",
              "      <td>3.68</td>\n",
              "      <td>3.69</td>\n",
              "      <td>3.65</td>\n",
              "      <td>3.66</td>\n",
              "      <td>2.496178</td>\n",
              "      <td>7280000</td>\n",
              "    </tr>\n",
              "    <tr>\n",
              "      <th>2014-01-03</th>\n",
              "      <td>3.65</td>\n",
              "      <td>3.66</td>\n",
              "      <td>3.59</td>\n",
              "      <td>3.60</td>\n",
              "      <td>2.455256</td>\n",
              "      <td>13827000</td>\n",
              "    </tr>\n",
              "    <tr>\n",
              "      <th>2014-01-06</th>\n",
              "      <td>3.59</td>\n",
              "      <td>3.59</td>\n",
              "      <td>3.52</td>\n",
              "      <td>3.54</td>\n",
              "      <td>2.414336</td>\n",
              "      <td>20800000</td>\n",
              "    </tr>\n",
              "    <tr>\n",
              "      <th>2014-01-07</th>\n",
              "      <td>3.54</td>\n",
              "      <td>3.57</td>\n",
              "      <td>3.53</td>\n",
              "      <td>3.54</td>\n",
              "      <td>2.414336</td>\n",
              "      <td>22746000</td>\n",
              "    </tr>\n",
              "    <tr>\n",
              "      <th>2014-01-08</th>\n",
              "      <td>3.56</td>\n",
              "      <td>3.57</td>\n",
              "      <td>3.54</td>\n",
              "      <td>3.55</td>\n",
              "      <td>2.421156</td>\n",
              "      <td>14599000</td>\n",
              "    </tr>\n",
              "    <tr>\n",
              "      <th>...</th>\n",
              "      <td>...</td>\n",
              "      <td>...</td>\n",
              "      <td>...</td>\n",
              "      <td>...</td>\n",
              "      <td>...</td>\n",
              "      <td>...</td>\n",
              "    </tr>\n",
              "    <tr>\n",
              "      <th>2022-12-23</th>\n",
              "      <td>2.58</td>\n",
              "      <td>2.59</td>\n",
              "      <td>2.56</td>\n",
              "      <td>2.57</td>\n",
              "      <td>2.545663</td>\n",
              "      <td>8518500</td>\n",
              "    </tr>\n",
              "    <tr>\n",
              "      <th>2022-12-27</th>\n",
              "      <td>2.59</td>\n",
              "      <td>2.60</td>\n",
              "      <td>2.58</td>\n",
              "      <td>2.58</td>\n",
              "      <td>2.555568</td>\n",
              "      <td>6353800</td>\n",
              "    </tr>\n",
              "    <tr>\n",
              "      <th>2022-12-28</th>\n",
              "      <td>2.58</td>\n",
              "      <td>2.59</td>\n",
              "      <td>2.56</td>\n",
              "      <td>2.58</td>\n",
              "      <td>2.555568</td>\n",
              "      <td>9060100</td>\n",
              "    </tr>\n",
              "    <tr>\n",
              "      <th>2022-12-29</th>\n",
              "      <td>2.57</td>\n",
              "      <td>2.57</td>\n",
              "      <td>2.55</td>\n",
              "      <td>2.56</td>\n",
              "      <td>2.535758</td>\n",
              "      <td>15897600</td>\n",
              "    </tr>\n",
              "    <tr>\n",
              "      <th>2022-12-30</th>\n",
              "      <td>2.58</td>\n",
              "      <td>2.59</td>\n",
              "      <td>2.56</td>\n",
              "      <td>2.57</td>\n",
              "      <td>2.545663</td>\n",
              "      <td>9788500</td>\n",
              "    </tr>\n",
              "  </tbody>\n",
              "</table>\n",
              "<p>2262 rows × 6 columns</p>\n",
              "</div>\n",
              "    <div class=\"colab-df-buttons\">\n",
              "\n",
              "  <div class=\"colab-df-container\">\n",
              "    <button class=\"colab-df-convert\" onclick=\"convertToInteractive('df-59abafe2-ab02-4f06-bcf3-78aa1034302e')\"\n",
              "            title=\"Convert this dataframe to an interactive table.\"\n",
              "            style=\"display:none;\">\n",
              "\n",
              "  <svg xmlns=\"http://www.w3.org/2000/svg\" height=\"24px\" viewBox=\"0 -960 960 960\">\n",
              "    <path d=\"M120-120v-720h720v720H120Zm60-500h600v-160H180v160Zm220 220h160v-160H400v160Zm0 220h160v-160H400v160ZM180-400h160v-160H180v160Zm440 0h160v-160H620v160ZM180-180h160v-160H180v160Zm440 0h160v-160H620v160Z\"/>\n",
              "  </svg>\n",
              "    </button>\n",
              "\n",
              "  <style>\n",
              "    .colab-df-container {\n",
              "      display:flex;\n",
              "      gap: 12px;\n",
              "    }\n",
              "\n",
              "    .colab-df-convert {\n",
              "      background-color: #E8F0FE;\n",
              "      border: none;\n",
              "      border-radius: 50%;\n",
              "      cursor: pointer;\n",
              "      display: none;\n",
              "      fill: #1967D2;\n",
              "      height: 32px;\n",
              "      padding: 0 0 0 0;\n",
              "      width: 32px;\n",
              "    }\n",
              "\n",
              "    .colab-df-convert:hover {\n",
              "      background-color: #E2EBFA;\n",
              "      box-shadow: 0px 1px 2px rgba(60, 64, 67, 0.3), 0px 1px 3px 1px rgba(60, 64, 67, 0.15);\n",
              "      fill: #174EA6;\n",
              "    }\n",
              "\n",
              "    .colab-df-buttons div {\n",
              "      margin-bottom: 4px;\n",
              "    }\n",
              "\n",
              "    [theme=dark] .colab-df-convert {\n",
              "      background-color: #3B4455;\n",
              "      fill: #D2E3FC;\n",
              "    }\n",
              "\n",
              "    [theme=dark] .colab-df-convert:hover {\n",
              "      background-color: #434B5C;\n",
              "      box-shadow: 0px 1px 3px 1px rgba(0, 0, 0, 0.15);\n",
              "      filter: drop-shadow(0px 1px 2px rgba(0, 0, 0, 0.3));\n",
              "      fill: #FFFFFF;\n",
              "    }\n",
              "  </style>\n",
              "\n",
              "    <script>\n",
              "      const buttonEl =\n",
              "        document.querySelector('#df-59abafe2-ab02-4f06-bcf3-78aa1034302e button.colab-df-convert');\n",
              "      buttonEl.style.display =\n",
              "        google.colab.kernel.accessAllowed ? 'block' : 'none';\n",
              "\n",
              "      async function convertToInteractive(key) {\n",
              "        const element = document.querySelector('#df-59abafe2-ab02-4f06-bcf3-78aa1034302e');\n",
              "        const dataTable =\n",
              "          await google.colab.kernel.invokeFunction('convertToInteractive',\n",
              "                                                    [key], {});\n",
              "        if (!dataTable) return;\n",
              "\n",
              "        const docLinkHtml = 'Like what you see? Visit the ' +\n",
              "          '<a target=\"_blank\" href=https://colab.research.google.com/notebooks/data_table.ipynb>data table notebook</a>'\n",
              "          + ' to learn more about interactive tables.';\n",
              "        element.innerHTML = '';\n",
              "        dataTable['output_type'] = 'display_data';\n",
              "        await google.colab.output.renderOutput(dataTable, element);\n",
              "        const docLink = document.createElement('div');\n",
              "        docLink.innerHTML = docLinkHtml;\n",
              "        element.appendChild(docLink);\n",
              "      }\n",
              "    </script>\n",
              "  </div>\n",
              "\n",
              "\n",
              "<div id=\"df-21785429-a733-4855-902b-5be43f570ffc\">\n",
              "  <button class=\"colab-df-quickchart\" onclick=\"quickchart('df-21785429-a733-4855-902b-5be43f570ffc')\"\n",
              "            title=\"Suggest charts.\"\n",
              "            style=\"display:none;\">\n",
              "\n",
              "<svg xmlns=\"http://www.w3.org/2000/svg\" height=\"24px\"viewBox=\"0 0 24 24\"\n",
              "     width=\"24px\">\n",
              "    <g>\n",
              "        <path d=\"M19 3H5c-1.1 0-2 .9-2 2v14c0 1.1.9 2 2 2h14c1.1 0 2-.9 2-2V5c0-1.1-.9-2-2-2zM9 17H7v-7h2v7zm4 0h-2V7h2v10zm4 0h-2v-4h2v4z\"/>\n",
              "    </g>\n",
              "</svg>\n",
              "  </button>\n",
              "\n",
              "<style>\n",
              "  .colab-df-quickchart {\n",
              "      --bg-color: #E8F0FE;\n",
              "      --fill-color: #1967D2;\n",
              "      --hover-bg-color: #E2EBFA;\n",
              "      --hover-fill-color: #174EA6;\n",
              "      --disabled-fill-color: #AAA;\n",
              "      --disabled-bg-color: #DDD;\n",
              "  }\n",
              "\n",
              "  [theme=dark] .colab-df-quickchart {\n",
              "      --bg-color: #3B4455;\n",
              "      --fill-color: #D2E3FC;\n",
              "      --hover-bg-color: #434B5C;\n",
              "      --hover-fill-color: #FFFFFF;\n",
              "      --disabled-bg-color: #3B4455;\n",
              "      --disabled-fill-color: #666;\n",
              "  }\n",
              "\n",
              "  .colab-df-quickchart {\n",
              "    background-color: var(--bg-color);\n",
              "    border: none;\n",
              "    border-radius: 50%;\n",
              "    cursor: pointer;\n",
              "    display: none;\n",
              "    fill: var(--fill-color);\n",
              "    height: 32px;\n",
              "    padding: 0;\n",
              "    width: 32px;\n",
              "  }\n",
              "\n",
              "  .colab-df-quickchart:hover {\n",
              "    background-color: var(--hover-bg-color);\n",
              "    box-shadow: 0 1px 2px rgba(60, 64, 67, 0.3), 0 1px 3px 1px rgba(60, 64, 67, 0.15);\n",
              "    fill: var(--button-hover-fill-color);\n",
              "  }\n",
              "\n",
              "  .colab-df-quickchart-complete:disabled,\n",
              "  .colab-df-quickchart-complete:disabled:hover {\n",
              "    background-color: var(--disabled-bg-color);\n",
              "    fill: var(--disabled-fill-color);\n",
              "    box-shadow: none;\n",
              "  }\n",
              "\n",
              "  .colab-df-spinner {\n",
              "    border: 2px solid var(--fill-color);\n",
              "    border-color: transparent;\n",
              "    border-bottom-color: var(--fill-color);\n",
              "    animation:\n",
              "      spin 1s steps(1) infinite;\n",
              "  }\n",
              "\n",
              "  @keyframes spin {\n",
              "    0% {\n",
              "      border-color: transparent;\n",
              "      border-bottom-color: var(--fill-color);\n",
              "      border-left-color: var(--fill-color);\n",
              "    }\n",
              "    20% {\n",
              "      border-color: transparent;\n",
              "      border-left-color: var(--fill-color);\n",
              "      border-top-color: var(--fill-color);\n",
              "    }\n",
              "    30% {\n",
              "      border-color: transparent;\n",
              "      border-left-color: var(--fill-color);\n",
              "      border-top-color: var(--fill-color);\n",
              "      border-right-color: var(--fill-color);\n",
              "    }\n",
              "    40% {\n",
              "      border-color: transparent;\n",
              "      border-right-color: var(--fill-color);\n",
              "      border-top-color: var(--fill-color);\n",
              "    }\n",
              "    60% {\n",
              "      border-color: transparent;\n",
              "      border-right-color: var(--fill-color);\n",
              "    }\n",
              "    80% {\n",
              "      border-color: transparent;\n",
              "      border-right-color: var(--fill-color);\n",
              "      border-bottom-color: var(--fill-color);\n",
              "    }\n",
              "    90% {\n",
              "      border-color: transparent;\n",
              "      border-bottom-color: var(--fill-color);\n",
              "    }\n",
              "  }\n",
              "</style>\n",
              "\n",
              "  <script>\n",
              "    async function quickchart(key) {\n",
              "      const quickchartButtonEl =\n",
              "        document.querySelector('#' + key + ' button');\n",
              "      quickchartButtonEl.disabled = true;  // To prevent multiple clicks.\n",
              "      quickchartButtonEl.classList.add('colab-df-spinner');\n",
              "      try {\n",
              "        const charts = await google.colab.kernel.invokeFunction(\n",
              "            'suggestCharts', [key], {});\n",
              "      } catch (error) {\n",
              "        console.error('Error during call to suggestCharts:', error);\n",
              "      }\n",
              "      quickchartButtonEl.classList.remove('colab-df-spinner');\n",
              "      quickchartButtonEl.classList.add('colab-df-quickchart-complete');\n",
              "    }\n",
              "    (() => {\n",
              "      let quickchartButtonEl =\n",
              "        document.querySelector('#df-21785429-a733-4855-902b-5be43f570ffc button');\n",
              "      quickchartButtonEl.style.display =\n",
              "        google.colab.kernel.accessAllowed ? 'block' : 'none';\n",
              "    })();\n",
              "  </script>\n",
              "</div>\n",
              "    </div>\n",
              "  </div>\n"
            ]
          },
          "metadata": {}
        }
      ]
    },
    {
      "cell_type": "code",
      "source": [
        "#Display the number of rows and columns in the dataframe\n",
        "singtel_df_new.shape"
      ],
      "metadata": {
        "colab": {
          "base_uri": "https://localhost:8080/"
        },
        "id": "vekf29ZpAUy1",
        "outputId": "d20d01e4-e76f-408f-b431-2acc23ec78b4"
      },
      "execution_count": 3,
      "outputs": [
        {
          "output_type": "execute_result",
          "data": {
            "text/plain": [
              "(2262, 6)"
            ]
          },
          "metadata": {},
          "execution_count": 3
        }
      ]
    },
    {
      "cell_type": "code",
      "source": [
        "#Display the columns in the dataset\n",
        "singtel_df_new.keys()"
      ],
      "metadata": {
        "colab": {
          "base_uri": "https://localhost:8080/"
        },
        "id": "o09Lw5X2AUw4",
        "outputId": "ccfaaa89-f4e9-4f57-9815-4475f920074a"
      },
      "execution_count": 4,
      "outputs": [
        {
          "output_type": "execute_result",
          "data": {
            "text/plain": [
              "Index(['Open', 'High', 'Low', 'Close', 'Adj Close', 'Volume'], dtype='object')"
            ]
          },
          "metadata": {},
          "execution_count": 4
        }
      ]
    },
    {
      "cell_type": "code",
      "source": [
        "#Display information about the dataframe\n",
        "singtel_df_new.info()"
      ],
      "metadata": {
        "colab": {
          "base_uri": "https://localhost:8080/"
        },
        "id": "r-CDsTG_AUu6",
        "outputId": "8dbfc688-f1ab-4464-905a-d0d8916e1cfd"
      },
      "execution_count": 5,
      "outputs": [
        {
          "output_type": "stream",
          "name": "stdout",
          "text": [
            "<class 'pandas.core.frame.DataFrame'>\n",
            "DatetimeIndex: 2262 entries, 2014-01-02 to 2022-12-30\n",
            "Data columns (total 6 columns):\n",
            " #   Column     Non-Null Count  Dtype  \n",
            "---  ------     --------------  -----  \n",
            " 0   Open       2262 non-null   float64\n",
            " 1   High       2262 non-null   float64\n",
            " 2   Low        2262 non-null   float64\n",
            " 3   Close      2262 non-null   float64\n",
            " 4   Adj Close  2262 non-null   float64\n",
            " 5   Volume     2262 non-null   int64  \n",
            "dtypes: float64(5), int64(1)\n",
            "memory usage: 123.7 KB\n"
          ]
        }
      ]
    },
    {
      "cell_type": "code",
      "source": [
        "#Displays output of describe function and converting values that are displayed from scientific notation to normal numeric values\n",
        "singtel_df_new.describe().apply(lambda s: s.apply('{0:.5f}'.format))"
      ],
      "metadata": {
        "colab": {
          "base_uri": "https://localhost:8080/",
          "height": 380
        },
        "id": "dn81VuEcAUs2",
        "outputId": "88728255-ec31-4277-b4da-9205c1fd477d"
      },
      "execution_count": 6,
      "outputs": [
        {
          "output_type": "execute_result",
          "data": {
            "text/plain": [
              "             Open        High         Low       Close   Adj Close  \\\n",
              "count  2262.00000  2262.00000  2262.00000  2262.00000  2262.00000   \n",
              "mean      3.28016     3.30314     3.25557     3.27934     2.66202   \n",
              "std       0.62497     0.62638     0.62166     0.62515     0.28855   \n",
              "min       2.01000     2.04000     2.00000     2.00000     1.83329   \n",
              "25%       2.63000     2.65000     2.61000     2.63000     2.45753   \n",
              "50%       3.37000     3.39000     3.34000     3.37000     2.67443   \n",
              "75%       3.81000     3.84000     3.78750     3.81000     2.90752   \n",
              "max       4.57000     4.57000     4.47000     4.53000     3.28963   \n",
              "\n",
              "                Volume  \n",
              "count       2262.00000  \n",
              "mean    23684934.52122  \n",
              "std     12901305.28807  \n",
              "min            0.00000  \n",
              "25%     15225225.00000  \n",
              "50%     20907650.00000  \n",
              "75%     28651350.00000  \n",
              "max    119401400.00000  "
            ],
            "text/html": [
              "\n",
              "  <div id=\"df-671d9f57-8098-457c-9e1e-31a7d9ea5d34\" class=\"colab-df-container\">\n",
              "    <div>\n",
              "<style scoped>\n",
              "    .dataframe tbody tr th:only-of-type {\n",
              "        vertical-align: middle;\n",
              "    }\n",
              "\n",
              "    .dataframe tbody tr th {\n",
              "        vertical-align: top;\n",
              "    }\n",
              "\n",
              "    .dataframe thead th {\n",
              "        text-align: right;\n",
              "    }\n",
              "</style>\n",
              "<table border=\"1\" class=\"dataframe\">\n",
              "  <thead>\n",
              "    <tr style=\"text-align: right;\">\n",
              "      <th></th>\n",
              "      <th>Open</th>\n",
              "      <th>High</th>\n",
              "      <th>Low</th>\n",
              "      <th>Close</th>\n",
              "      <th>Adj Close</th>\n",
              "      <th>Volume</th>\n",
              "    </tr>\n",
              "  </thead>\n",
              "  <tbody>\n",
              "    <tr>\n",
              "      <th>count</th>\n",
              "      <td>2262.00000</td>\n",
              "      <td>2262.00000</td>\n",
              "      <td>2262.00000</td>\n",
              "      <td>2262.00000</td>\n",
              "      <td>2262.00000</td>\n",
              "      <td>2262.00000</td>\n",
              "    </tr>\n",
              "    <tr>\n",
              "      <th>mean</th>\n",
              "      <td>3.28016</td>\n",
              "      <td>3.30314</td>\n",
              "      <td>3.25557</td>\n",
              "      <td>3.27934</td>\n",
              "      <td>2.66202</td>\n",
              "      <td>23684934.52122</td>\n",
              "    </tr>\n",
              "    <tr>\n",
              "      <th>std</th>\n",
              "      <td>0.62497</td>\n",
              "      <td>0.62638</td>\n",
              "      <td>0.62166</td>\n",
              "      <td>0.62515</td>\n",
              "      <td>0.28855</td>\n",
              "      <td>12901305.28807</td>\n",
              "    </tr>\n",
              "    <tr>\n",
              "      <th>min</th>\n",
              "      <td>2.01000</td>\n",
              "      <td>2.04000</td>\n",
              "      <td>2.00000</td>\n",
              "      <td>2.00000</td>\n",
              "      <td>1.83329</td>\n",
              "      <td>0.00000</td>\n",
              "    </tr>\n",
              "    <tr>\n",
              "      <th>25%</th>\n",
              "      <td>2.63000</td>\n",
              "      <td>2.65000</td>\n",
              "      <td>2.61000</td>\n",
              "      <td>2.63000</td>\n",
              "      <td>2.45753</td>\n",
              "      <td>15225225.00000</td>\n",
              "    </tr>\n",
              "    <tr>\n",
              "      <th>50%</th>\n",
              "      <td>3.37000</td>\n",
              "      <td>3.39000</td>\n",
              "      <td>3.34000</td>\n",
              "      <td>3.37000</td>\n",
              "      <td>2.67443</td>\n",
              "      <td>20907650.00000</td>\n",
              "    </tr>\n",
              "    <tr>\n",
              "      <th>75%</th>\n",
              "      <td>3.81000</td>\n",
              "      <td>3.84000</td>\n",
              "      <td>3.78750</td>\n",
              "      <td>3.81000</td>\n",
              "      <td>2.90752</td>\n",
              "      <td>28651350.00000</td>\n",
              "    </tr>\n",
              "    <tr>\n",
              "      <th>max</th>\n",
              "      <td>4.57000</td>\n",
              "      <td>4.57000</td>\n",
              "      <td>4.47000</td>\n",
              "      <td>4.53000</td>\n",
              "      <td>3.28963</td>\n",
              "      <td>119401400.00000</td>\n",
              "    </tr>\n",
              "  </tbody>\n",
              "</table>\n",
              "</div>\n",
              "    <div class=\"colab-df-buttons\">\n",
              "\n",
              "  <div class=\"colab-df-container\">\n",
              "    <button class=\"colab-df-convert\" onclick=\"convertToInteractive('df-671d9f57-8098-457c-9e1e-31a7d9ea5d34')\"\n",
              "            title=\"Convert this dataframe to an interactive table.\"\n",
              "            style=\"display:none;\">\n",
              "\n",
              "  <svg xmlns=\"http://www.w3.org/2000/svg\" height=\"24px\" viewBox=\"0 -960 960 960\">\n",
              "    <path d=\"M120-120v-720h720v720H120Zm60-500h600v-160H180v160Zm220 220h160v-160H400v160Zm0 220h160v-160H400v160ZM180-400h160v-160H180v160Zm440 0h160v-160H620v160ZM180-180h160v-160H180v160Zm440 0h160v-160H620v160Z\"/>\n",
              "  </svg>\n",
              "    </button>\n",
              "\n",
              "  <style>\n",
              "    .colab-df-container {\n",
              "      display:flex;\n",
              "      gap: 12px;\n",
              "    }\n",
              "\n",
              "    .colab-df-convert {\n",
              "      background-color: #E8F0FE;\n",
              "      border: none;\n",
              "      border-radius: 50%;\n",
              "      cursor: pointer;\n",
              "      display: none;\n",
              "      fill: #1967D2;\n",
              "      height: 32px;\n",
              "      padding: 0 0 0 0;\n",
              "      width: 32px;\n",
              "    }\n",
              "\n",
              "    .colab-df-convert:hover {\n",
              "      background-color: #E2EBFA;\n",
              "      box-shadow: 0px 1px 2px rgba(60, 64, 67, 0.3), 0px 1px 3px 1px rgba(60, 64, 67, 0.15);\n",
              "      fill: #174EA6;\n",
              "    }\n",
              "\n",
              "    .colab-df-buttons div {\n",
              "      margin-bottom: 4px;\n",
              "    }\n",
              "\n",
              "    [theme=dark] .colab-df-convert {\n",
              "      background-color: #3B4455;\n",
              "      fill: #D2E3FC;\n",
              "    }\n",
              "\n",
              "    [theme=dark] .colab-df-convert:hover {\n",
              "      background-color: #434B5C;\n",
              "      box-shadow: 0px 1px 3px 1px rgba(0, 0, 0, 0.15);\n",
              "      filter: drop-shadow(0px 1px 2px rgba(0, 0, 0, 0.3));\n",
              "      fill: #FFFFFF;\n",
              "    }\n",
              "  </style>\n",
              "\n",
              "    <script>\n",
              "      const buttonEl =\n",
              "        document.querySelector('#df-671d9f57-8098-457c-9e1e-31a7d9ea5d34 button.colab-df-convert');\n",
              "      buttonEl.style.display =\n",
              "        google.colab.kernel.accessAllowed ? 'block' : 'none';\n",
              "\n",
              "      async function convertToInteractive(key) {\n",
              "        const element = document.querySelector('#df-671d9f57-8098-457c-9e1e-31a7d9ea5d34');\n",
              "        const dataTable =\n",
              "          await google.colab.kernel.invokeFunction('convertToInteractive',\n",
              "                                                    [key], {});\n",
              "        if (!dataTable) return;\n",
              "\n",
              "        const docLinkHtml = 'Like what you see? Visit the ' +\n",
              "          '<a target=\"_blank\" href=https://colab.research.google.com/notebooks/data_table.ipynb>data table notebook</a>'\n",
              "          + ' to learn more about interactive tables.';\n",
              "        element.innerHTML = '';\n",
              "        dataTable['output_type'] = 'display_data';\n",
              "        await google.colab.output.renderOutput(dataTable, element);\n",
              "        const docLink = document.createElement('div');\n",
              "        docLink.innerHTML = docLinkHtml;\n",
              "        element.appendChild(docLink);\n",
              "      }\n",
              "    </script>\n",
              "  </div>\n",
              "\n",
              "\n",
              "<div id=\"df-fd38d08c-22db-4ff0-aae3-89feb2a3afc9\">\n",
              "  <button class=\"colab-df-quickchart\" onclick=\"quickchart('df-fd38d08c-22db-4ff0-aae3-89feb2a3afc9')\"\n",
              "            title=\"Suggest charts.\"\n",
              "            style=\"display:none;\">\n",
              "\n",
              "<svg xmlns=\"http://www.w3.org/2000/svg\" height=\"24px\"viewBox=\"0 0 24 24\"\n",
              "     width=\"24px\">\n",
              "    <g>\n",
              "        <path d=\"M19 3H5c-1.1 0-2 .9-2 2v14c0 1.1.9 2 2 2h14c1.1 0 2-.9 2-2V5c0-1.1-.9-2-2-2zM9 17H7v-7h2v7zm4 0h-2V7h2v10zm4 0h-2v-4h2v4z\"/>\n",
              "    </g>\n",
              "</svg>\n",
              "  </button>\n",
              "\n",
              "<style>\n",
              "  .colab-df-quickchart {\n",
              "      --bg-color: #E8F0FE;\n",
              "      --fill-color: #1967D2;\n",
              "      --hover-bg-color: #E2EBFA;\n",
              "      --hover-fill-color: #174EA6;\n",
              "      --disabled-fill-color: #AAA;\n",
              "      --disabled-bg-color: #DDD;\n",
              "  }\n",
              "\n",
              "  [theme=dark] .colab-df-quickchart {\n",
              "      --bg-color: #3B4455;\n",
              "      --fill-color: #D2E3FC;\n",
              "      --hover-bg-color: #434B5C;\n",
              "      --hover-fill-color: #FFFFFF;\n",
              "      --disabled-bg-color: #3B4455;\n",
              "      --disabled-fill-color: #666;\n",
              "  }\n",
              "\n",
              "  .colab-df-quickchart {\n",
              "    background-color: var(--bg-color);\n",
              "    border: none;\n",
              "    border-radius: 50%;\n",
              "    cursor: pointer;\n",
              "    display: none;\n",
              "    fill: var(--fill-color);\n",
              "    height: 32px;\n",
              "    padding: 0;\n",
              "    width: 32px;\n",
              "  }\n",
              "\n",
              "  .colab-df-quickchart:hover {\n",
              "    background-color: var(--hover-bg-color);\n",
              "    box-shadow: 0 1px 2px rgba(60, 64, 67, 0.3), 0 1px 3px 1px rgba(60, 64, 67, 0.15);\n",
              "    fill: var(--button-hover-fill-color);\n",
              "  }\n",
              "\n",
              "  .colab-df-quickchart-complete:disabled,\n",
              "  .colab-df-quickchart-complete:disabled:hover {\n",
              "    background-color: var(--disabled-bg-color);\n",
              "    fill: var(--disabled-fill-color);\n",
              "    box-shadow: none;\n",
              "  }\n",
              "\n",
              "  .colab-df-spinner {\n",
              "    border: 2px solid var(--fill-color);\n",
              "    border-color: transparent;\n",
              "    border-bottom-color: var(--fill-color);\n",
              "    animation:\n",
              "      spin 1s steps(1) infinite;\n",
              "  }\n",
              "\n",
              "  @keyframes spin {\n",
              "    0% {\n",
              "      border-color: transparent;\n",
              "      border-bottom-color: var(--fill-color);\n",
              "      border-left-color: var(--fill-color);\n",
              "    }\n",
              "    20% {\n",
              "      border-color: transparent;\n",
              "      border-left-color: var(--fill-color);\n",
              "      border-top-color: var(--fill-color);\n",
              "    }\n",
              "    30% {\n",
              "      border-color: transparent;\n",
              "      border-left-color: var(--fill-color);\n",
              "      border-top-color: var(--fill-color);\n",
              "      border-right-color: var(--fill-color);\n",
              "    }\n",
              "    40% {\n",
              "      border-color: transparent;\n",
              "      border-right-color: var(--fill-color);\n",
              "      border-top-color: var(--fill-color);\n",
              "    }\n",
              "    60% {\n",
              "      border-color: transparent;\n",
              "      border-right-color: var(--fill-color);\n",
              "    }\n",
              "    80% {\n",
              "      border-color: transparent;\n",
              "      border-right-color: var(--fill-color);\n",
              "      border-bottom-color: var(--fill-color);\n",
              "    }\n",
              "    90% {\n",
              "      border-color: transparent;\n",
              "      border-bottom-color: var(--fill-color);\n",
              "    }\n",
              "  }\n",
              "</style>\n",
              "\n",
              "  <script>\n",
              "    async function quickchart(key) {\n",
              "      const quickchartButtonEl =\n",
              "        document.querySelector('#' + key + ' button');\n",
              "      quickchartButtonEl.disabled = true;  // To prevent multiple clicks.\n",
              "      quickchartButtonEl.classList.add('colab-df-spinner');\n",
              "      try {\n",
              "        const charts = await google.colab.kernel.invokeFunction(\n",
              "            'suggestCharts', [key], {});\n",
              "      } catch (error) {\n",
              "        console.error('Error during call to suggestCharts:', error);\n",
              "      }\n",
              "      quickchartButtonEl.classList.remove('colab-df-spinner');\n",
              "      quickchartButtonEl.classList.add('colab-df-quickchart-complete');\n",
              "    }\n",
              "    (() => {\n",
              "      let quickchartButtonEl =\n",
              "        document.querySelector('#df-fd38d08c-22db-4ff0-aae3-89feb2a3afc9 button');\n",
              "      quickchartButtonEl.style.display =\n",
              "        google.colab.kernel.accessAllowed ? 'block' : 'none';\n",
              "    })();\n",
              "  </script>\n",
              "</div>\n",
              "    </div>\n",
              "  </div>\n"
            ]
          },
          "metadata": {},
          "execution_count": 6
        }
      ]
    },
    {
      "cell_type": "code",
      "source": [
        "#Check if any variable contains missing values\n",
        "#It will return TRUE beside the column that contains missing values\n",
        "singtel_df_new.isnull().any(axis=0)"
      ],
      "metadata": {
        "colab": {
          "base_uri": "https://localhost:8080/"
        },
        "id": "foPyyW6MAUrD",
        "outputId": "e6aeb56a-93eb-4cc3-96c0-4f9b7130f2e7"
      },
      "execution_count": 7,
      "outputs": [
        {
          "output_type": "execute_result",
          "data": {
            "text/plain": [
              "Open         False\n",
              "High         False\n",
              "Low          False\n",
              "Close        False\n",
              "Adj Close    False\n",
              "Volume       False\n",
              "dtype: bool"
            ]
          },
          "metadata": {},
          "execution_count": 7
        }
      ]
    },
    {
      "cell_type": "code",
      "source": [
        "#Check if there are any duplicated rows\n",
        "singtel_df_new.duplicated().sum()"
      ],
      "metadata": {
        "colab": {
          "base_uri": "https://localhost:8080/"
        },
        "id": "U_4djOsvAUoK",
        "outputId": "546d9ab4-000e-4645-f07a-ded75008b874"
      },
      "execution_count": 8,
      "outputs": [
        {
          "output_type": "execute_result",
          "data": {
            "text/plain": [
              "0"
            ]
          },
          "metadata": {},
          "execution_count": 8
        }
      ]
    },
    {
      "cell_type": "code",
      "source": [
        "#plot a graph to show the stock prices in the 2 data durations\n",
        "\n",
        "#graph for 2014-2021\n",
        "singtel_df_new[\"High\"][:'2021'].plot(figsize=(16,4),legend=True)\n",
        "\n",
        "#graph for 2022\n",
        "singtel_df_new[\"High\"]['2022':].plot(figsize=(16,4),legend=True)\n",
        "\n",
        "\n",
        "plt.legend(['Training set (2014-2021)', 'Testing set (After 2022)'])\n",
        "plt.title('Singtel Stock Price')\n",
        "plt.show()"
      ],
      "metadata": {
        "colab": {
          "base_uri": "https://localhost:8080/",
          "height": 392
        },
        "id": "HRXriMVCHLwo",
        "outputId": "6207be79-710e-4d63-861a-a24b8ba40beb"
      },
      "execution_count": 9,
      "outputs": [
        {
          "output_type": "display_data",
          "data": {
            "text/plain": [
              "<Figure size 1600x400 with 1 Axes>"
            ],
            "image/png": "[encoded data removed]"
          },
          "metadata": {}
        }
      ]
    },
    {
      "cell_type": "markdown",
      "source": [
        "## Split the data into training and testing dataset"
      ],
      "metadata": {
        "id": "hKfqJhksIqDF"
      }
    },
    {
      "cell_type": "code",
      "source": [
        "#Splitting the data into train and test\n",
        "\n",
        "#training data\n",
        "start_date = \"2014-01-02\"\n",
        "end_date = \"2021-12-31\"\n",
        "training_data = singtel_df_new.loc[start_date:end_date, [\"High\", \"Volume\"]].apply(lambda s: s.apply('{0:.5f}'.format)).values"
      ],
      "metadata": {
        "id": "4DEIF6HP8aI_"
      },
      "execution_count": 10,
      "outputs": []
    },
    {
      "cell_type": "code",
      "source": [
        "display(training_data)"
      ],
      "metadata": {
        "colab": {
          "base_uri": "https://localhost:8080/",
          "height": 172
        },
        "id": "Yq6h6o-58nq6",
        "outputId": "de54c07f-7da3-41e2-b4dc-809d8a1402bf"
      },
      "execution_count": 11,
      "outputs": [
        {
          "output_type": "display_data",
          "data": {
            "text/plain": [
              "array([['3.69000', '7280000.00000'],\n",
              "       ['3.66000', '13827000.00000'],\n",
              "       ['3.59000', '20800000.00000'],\n",
              "       ...,\n",
              "       ['2.36000', '10435200.00000'],\n",
              "       ['2.34000', '16582500.00000'],\n",
              "       ['2.34000', '9453400.00000']], dtype=object)"
            ]
          },
          "metadata": {}
        }
      ]
    },
    {
      "cell_type": "code",
      "source": [
        "len(training_data)"
      ],
      "metadata": {
        "colab": {
          "base_uri": "https://localhost:8080/"
        },
        "id": "c9dBUDIF81lm",
        "outputId": "fbe346ba-6c45-40cf-fe81-64610c5a5217"
      },
      "execution_count": 12,
      "outputs": [
        {
          "output_type": "execute_result",
          "data": {
            "text/plain": [
              "2012"
            ]
          },
          "metadata": {},
          "execution_count": 12
        }
      ]
    },
    {
      "cell_type": "code",
      "source": [
        "training_data.shape"
      ],
      "metadata": {
        "colab": {
          "base_uri": "https://localhost:8080/"
        },
        "id": "AN1_kQqlJOWS",
        "outputId": "7f03159c-5a87-46ca-88b5-b35d436ab669"
      },
      "execution_count": 13,
      "outputs": [
        {
          "output_type": "execute_result",
          "data": {
            "text/plain": [
              "(2012, 2)"
            ]
          },
          "metadata": {},
          "execution_count": 13
        }
      ]
    },
    {
      "cell_type": "code",
      "source": [
        "#testing data\n",
        "start_date = \"2022-01-03\"\n",
        "end_date = \"2022-12-30\"\n",
        "testing_data = singtel_df_new.loc[start_date:end_date, [\"High\", \"Volume\"]].apply(lambda s: s.apply('{0:.5f}'.format)).values"
      ],
      "metadata": {
        "id": "SXbny9YhH59m"
      },
      "execution_count": 14,
      "outputs": []
    },
    {
      "cell_type": "code",
      "source": [
        "display(testing_data)"
      ],
      "metadata": {
        "id": "X_GqqmiwJB5Z",
        "colab": {
          "base_uri": "https://localhost:8080/",
          "height": 1000
        },
        "outputId": "5a89ac35-723b-4a0e-9f9a-8458c89b3cc0"
      },
      "execution_count": 15,
      "outputs": [
        {
          "output_type": "display_data",
          "data": {
            "text/plain": [
              "array([['2.34000', '11174600.00000'],\n",
              "       ['2.35000', '26369200.00000'],\n",
              "       ['2.35000', '29463627.00000'],\n",
              "       ['2.36000', '26807300.00000'],\n",
              "       ['2.36000', '27193000.00000'],\n",
              "       ['2.35000', '29131681.00000'],\n",
              "       ['2.44000', '82803100.00000'],\n",
              "       ['2.44000', '31945000.00000'],\n",
              "       ['2.44000', '29537200.00000'],\n",
              "       ['2.47000', '41609500.00000'],\n",
              "       ['2.50000', '41988300.00000'],\n",
              "       ['2.50000', '23290700.00000'],\n",
              "       ['2.48000', '14905400.00000'],\n",
              "       ['2.48000', '19969000.00000'],\n",
              "       ['2.48000', '16173500.00000'],\n",
              "       ['2.49000', '32303000.00000'],\n",
              "       ['2.48000', '43374000.00000'],\n",
              "       ['2.50000', '30668100.00000'],\n",
              "       ['2.50000', '34605400.00000'],\n",
              "       ['2.51000', '55059400.00000'],\n",
              "       ['2.48000', '23184000.00000'],\n",
              "       ['2.52000', '63503300.00000'],\n",
              "       ['2.52000', '25154500.00000'],\n",
              "       ['2.54000', '25726200.00000'],\n",
              "       ['2.56000', '30426000.00000'],\n",
              "       ['2.56000', '20467400.00000'],\n",
              "       ['2.57000', '37412800.00000'],\n",
              "       ['2.55000', '23224400.00000'],\n",
              "       ['2.55000', '26727000.00000'],\n",
              "       ['2.57000', '31209600.00000'],\n",
              "       ['2.57000', '29018800.00000'],\n",
              "       ['2.57000', '32674400.00000'],\n",
              "       ['2.57000', '22582500.00000'],\n",
              "       ['2.60000', '31222600.00000'],\n",
              "       ['2.59000', '26634200.00000'],\n",
              "       ['2.58000', '25793000.00000'],\n",
              "       ['2.57000', '82738100.00000'],\n",
              "       ['2.60000', '75721700.00000'],\n",
              "       ['2.60000', '92346500.00000'],\n",
              "       ['2.59000', '39325000.00000'],\n",
              "       ['2.56000', '24660600.00000'],\n",
              "       ['2.56000', '15546500.00000'],\n",
              "       ['2.54000', '41037500.00000'],\n",
              "       ['2.54000', '31872400.00000'],\n",
              "       ['2.53000', '29173600.00000'],\n",
              "       ['2.55000', '28356500.00000'],\n",
              "       ['2.56000', '29553600.00000'],\n",
              "       ['2.58000', '23984800.00000'],\n",
              "       ['2.59000', '22018500.00000'],\n",
              "       ['2.56000', '29425800.00000'],\n",
              "       ['2.57000', '30245400.00000'],\n",
              "       ['2.58000', '23908300.00000'],\n",
              "       ['2.58000', '60101700.00000'],\n",
              "       ['2.59000', '23474600.00000'],\n",
              "       ['2.61000', '21975800.00000'],\n",
              "       ['2.59000', '16200900.00000'],\n",
              "       ['2.62000', '29170100.00000'],\n",
              "       ['2.65000', '32350900.00000'],\n",
              "       ['2.66000', '26775400.00000'],\n",
              "       ['2.66000', '22059500.00000'],\n",
              "       ['2.66000', '24398900.00000'],\n",
              "       ['2.68000', '30624700.00000'],\n",
              "       ['2.68000', '24932500.00000'],\n",
              "       ['2.66000', '11142600.00000'],\n",
              "       ['2.67000', '17534800.00000'],\n",
              "       ['2.67000', '13931600.00000'],\n",
              "       ['2.66000', '23082100.00000'],\n",
              "       ['2.65000', '16751700.00000'],\n",
              "       ['2.64000', '16828900.00000'],\n",
              "       ['2.63000', '18350200.00000'],\n",
              "       ['2.64000', '18136800.00000'],\n",
              "       ['2.64000', '21460300.00000'],\n",
              "       ['2.61000', '19142500.00000'],\n",
              "       ['2.61000', '17759200.00000'],\n",
              "       ['2.62000', '18460200.00000'],\n",
              "       ['2.67000', '34555397.00000'],\n",
              "       ['2.68000', '27486500.00000'],\n",
              "       ['2.71000', '40314800.00000'],\n",
              "       ['2.78000', '69228000.00000'],\n",
              "       ['2.79000', '39416500.00000'],\n",
              "       ['2.80000', '37581100.00000'],\n",
              "       ['2.80000', '44925847.00000'],\n",
              "       ['2.76000', '32780600.00000'],\n",
              "       ['2.77000', '18266300.00000'],\n",
              "       ['2.75000', '28126800.00000'],\n",
              "       ['2.78000', '34736400.00000'],\n",
              "       ['2.81000', '63138300.00000'],\n",
              "       ['2.84000', '60508400.00000'],\n",
              "       ['2.88000', '89276800.00000'],\n",
              "       ['2.86000', '43837206.00000'],\n",
              "       ['2.76000', '23553000.00000'],\n",
              "       ['2.76000', '26704700.00000'],\n",
              "       ['2.72000', '39836841.00000'],\n",
              "       ['2.72000', '34392000.00000'],\n",
              "       ['2.70000', '20935889.00000'],\n",
              "       ['2.70000', '31836400.00000'],\n",
              "       ['2.67000', '27118300.00000'],\n",
              "       ['2.76000', '52018800.00000'],\n",
              "       ['2.74000', '42775600.00000'],\n",
              "       ['2.71000', '44946900.00000'],\n",
              "       ['2.65000', '115126800.00000'],\n",
              "       ['2.62000', '37510069.00000'],\n",
              "       ['2.62000', '20070200.00000'],\n",
              "       ['2.61000', '22000800.00000'],\n",
              "       ['2.59000', '21351600.00000'],\n",
              "       ['2.58000', '20070400.00000'],\n",
              "       ['2.59000', '32647700.00000'],\n",
              "       ['2.54000', '34162400.00000'],\n",
              "       ['2.55000', '21196400.00000'],\n",
              "       ['2.56000', '28087400.00000'],\n",
              "       ['2.55000', '26411400.00000'],\n",
              "       ['2.54000', '26817600.00000'],\n",
              "       ['2.51000', '35503300.00000'],\n",
              "       ['2.49000', '41734700.00000'],\n",
              "       ['2.52000', '17033200.00000'],\n",
              "       ['2.57000', '40832700.00000'],\n",
              "       ['2.54000', '22945800.00000'],\n",
              "       ['2.56000', '18925400.00000'],\n",
              "       ['2.59000', '22972700.00000'],\n",
              "       ['2.62000', '27239000.00000'],\n",
              "       ['2.59000', '23001400.00000'],\n",
              "       ['2.59000', '28483900.00000'],\n",
              "       ['2.58000', '29843300.00000'],\n",
              "       ['2.57000', '22767600.00000'],\n",
              "       ['2.57000', '10633600.00000'],\n",
              "       ['2.60000', '19801900.00000'],\n",
              "       ['2.60000', '33712700.00000'],\n",
              "       ['2.65000', '37070900.00000'],\n",
              "       ['2.68000', '22632800.00000'],\n",
              "       ['2.66000', '14543400.00000'],\n",
              "       ['2.66000', '19550000.00000'],\n",
              "       ['2.63000', '17020500.00000'],\n",
              "       ['2.65000', '17475300.00000'],\n",
              "       ['2.67000', '12824600.00000'],\n",
              "       ['2.67000', '11098000.00000'],\n",
              "       ['2.67000', '21180200.00000'],\n",
              "       ['2.68000', '14716900.00000'],\n",
              "       ['2.68000', '13765900.00000'],\n",
              "       ['2.66000', '22251626.00000'],\n",
              "       ['2.65000', '22354800.00000'],\n",
              "       ['2.65000', '14524000.00000'],\n",
              "       ['2.65000', '20602900.00000'],\n",
              "       ['2.64000', '29596400.00000'],\n",
              "       ['2.66000', '15821600.00000'],\n",
              "       ['2.64000', '11737000.00000'],\n",
              "       ['2.60000', '15270400.00000'],\n",
              "       ['2.58000', '18687400.00000'],\n",
              "       ['2.65000', '28872500.00000'],\n",
              "       ['2.64000', '15750500.00000'],\n",
              "       ['2.66000', '29331000.00000'],\n",
              "       ['2.66000', '14475600.00000'],\n",
              "       ['2.65000', '16300700.00000'],\n",
              "       ['2.66000', '24379100.00000'],\n",
              "       ['2.72000', '49048200.00000'],\n",
              "       ['2.72000', '25994100.00000'],\n",
              "       ['2.70000', '17387700.00000'],\n",
              "       ['2.70000', '10286500.00000'],\n",
              "       ['2.67000', '17225200.00000'],\n",
              "       ['2.68000', '26967600.00000'],\n",
              "       ['2.65000', '19812900.00000'],\n",
              "       ['2.68000', '22169800.00000'],\n",
              "       ['2.69000', '17964400.00000'],\n",
              "       ['2.66000', '17869100.00000'],\n",
              "       ['2.68000', '22123400.00000'],\n",
              "       ['2.66000', '34753400.00000'],\n",
              "       ['2.64000', '18299600.00000'],\n",
              "       ['2.63000', '23479300.00000'],\n",
              "       ['2.65000', '21715300.00000'],\n",
              "       ['2.70000', '31082100.00000'],\n",
              "       ['2.71000', '38818400.00000'],\n",
              "       ['2.74000', '28869000.00000'],\n",
              "       ['2.73000', '19929090.00000'],\n",
              "       ['2.74000', '13286100.00000'],\n",
              "       ['2.75000', '16221300.00000'],\n",
              "       ['2.73000', '26375700.00000'],\n",
              "       ['2.72000', '20601900.00000'],\n",
              "       ['2.72000', '34795500.00000'],\n",
              "       ['2.71000', '18100700.00000'],\n",
              "       ['2.70000', '18986300.00000'],\n",
              "       ['2.70000', '27099200.00000'],\n",
              "       ['2.70000', '29793200.00000'],\n",
              "       ['2.68000', '30878300.00000'],\n",
              "       ['2.66000', '42917900.00000'],\n",
              "       ['2.65000', '23109000.00000'],\n",
              "       ['2.64000', '34082000.00000'],\n",
              "       ['2.71000', '73549600.00000'],\n",
              "       ['2.68000', '43056000.00000'],\n",
              "       ['2.65000', '43454200.00000'],\n",
              "       ['2.64000', '27893600.00000'],\n",
              "       ['2.63000', '43102100.00000'],\n",
              "       ['2.57000', '27349900.00000'],\n",
              "       ['2.54000', '29175800.00000'],\n",
              "       ['2.52000', '20487300.00000'],\n",
              "       ['2.52000', '30301300.00000'],\n",
              "       ['2.51000', '34748500.00000'],\n",
              "       ['2.52000', '34261700.00000'],\n",
              "       ['2.50000', '41134400.00000'],\n",
              "       ['2.51000', '35423800.00000'],\n",
              "       ['2.51000', '15296200.00000'],\n",
              "       ['2.49000', '16336900.00000'],\n",
              "       ['2.47000', '20603000.00000'],\n",
              "       ['2.46000', '37555700.00000'],\n",
              "       ['2.44000', '36142300.00000'],\n",
              "       ['2.44000', '21897500.00000'],\n",
              "       ['2.44000', '25382700.00000'],\n",
              "       ['2.46000', '33553800.00000'],\n",
              "       ['2.52000', '49487400.00000'],\n",
              "       ['2.54000', '21868500.00000'],\n",
              "       ['2.54000', '19687700.00000'],\n",
              "       ['2.53000', '17642000.00000'],\n",
              "       ['2.54000', '23383200.00000'],\n",
              "       ['2.56000', '25545400.00000'],\n",
              "       ['2.56000', '15670500.00000'],\n",
              "       ['2.56000', '24333900.00000'],\n",
              "       ['2.65000', '59409200.00000'],\n",
              "       ['2.70000', '44753800.00000'],\n",
              "       ['2.78000', '66727500.00000'],\n",
              "       ['2.82000', '64894000.00000'],\n",
              "       ['2.81000', '43672000.00000'],\n",
              "       ['2.82000', '47469500.00000'],\n",
              "       ['2.78000', '44700700.00000'],\n",
              "       ['2.71000', '37611700.00000'],\n",
              "       ['2.72000', '16069200.00000'],\n",
              "       ['2.74000', '14357500.00000'],\n",
              "       ['2.73000', '23643700.00000'],\n",
              "       ['2.71000', '9637900.00000'],\n",
              "       ['2.72000', '13499344.00000'],\n",
              "       ['2.73000', '28772700.00000'],\n",
              "       ['2.73000', '72451700.00000'],\n",
              "       ['2.74000', '31964936.00000'],\n",
              "       ['2.72000', '18260500.00000'],\n",
              "       ['2.71000', '31813300.00000'],\n",
              "       ['2.71000', '36051800.00000'],\n",
              "       ['2.67000', '34548100.00000'],\n",
              "       ['2.66000', '27787800.00000'],\n",
              "       ['2.68000', '31083100.00000'],\n",
              "       ['2.63000', '30880300.00000'],\n",
              "       ['2.65000', '41454700.00000'],\n",
              "       ['2.64000', '29266100.00000'],\n",
              "       ['2.61000', '27171800.00000'],\n",
              "       ['2.56000', '30433068.00000'],\n",
              "       ['2.62000', '31560100.00000'],\n",
              "       ['2.61000', '17358421.00000'],\n",
              "       ['2.58000', '12061600.00000'],\n",
              "       ['2.60000', '14537800.00000'],\n",
              "       ['2.59000', '8518500.00000'],\n",
              "       ['2.60000', '6353800.00000'],\n",
              "       ['2.59000', '9060100.00000'],\n",
              "       ['2.57000', '15897600.00000'],\n",
              "       ['2.59000', '9788500.00000']], dtype=object)"
            ]
          },
          "metadata": {}
        }
      ]
    },
    {
      "cell_type": "code",
      "source": [
        "len(testing_data)"
      ],
      "metadata": {
        "colab": {
          "base_uri": "https://localhost:8080/"
        },
        "id": "evITwXTJ8xHh",
        "outputId": "482b4a31-ff1a-4804-f034-e92aeedc9feb"
      },
      "execution_count": 16,
      "outputs": [
        {
          "output_type": "execute_result",
          "data": {
            "text/plain": [
              "250"
            ]
          },
          "metadata": {},
          "execution_count": 16
        }
      ]
    },
    {
      "cell_type": "code",
      "source": [
        "testing_data.shape"
      ],
      "metadata": {
        "colab": {
          "base_uri": "https://localhost:8080/"
        },
        "id": "KoRpn5J8JS7r",
        "outputId": "d02f7a65-7f0f-4284-a3e4-aa700d080389"
      },
      "execution_count": 17,
      "outputs": [
        {
          "output_type": "execute_result",
          "data": {
            "text/plain": [
              "(250, 2)"
            ]
          },
          "metadata": {},
          "execution_count": 17
        }
      ]
    },
    {
      "cell_type": "code",
      "source": [
        "#Scaling the training data\n",
        "sc = MinMaxScaler(feature_range=(0,1))\n",
        "scaled_training_data = sc.fit_transform(training_data)"
      ],
      "metadata": {
        "id": "1hGh9IDC86Ea"
      },
      "execution_count": 18,
      "outputs": []
    },
    {
      "cell_type": "code",
      "source": [
        "scaled_training_data.shape"
      ],
      "metadata": {
        "colab": {
          "base_uri": "https://localhost:8080/"
        },
        "id": "RkGxBajNJGqn",
        "outputId": "d6b35d7e-b6fe-4e59-da61-085b92e478cc"
      },
      "execution_count": 19,
      "outputs": [
        {
          "output_type": "execute_result",
          "data": {
            "text/plain": [
              "(2012, 2)"
            ]
          },
          "metadata": {},
          "execution_count": 19
        }
      ]
    },
    {
      "cell_type": "code",
      "source": [
        "#Split the training data into x and y train\n",
        "X_train = []\n",
        "Y_train = []\n",
        "\n",
        "for i in range(52,2012):\n",
        "  X_train.append(scaled_training_data[i-52:i,0])\n",
        "  Y_train.append(scaled_training_data[i,0])\n",
        "\n",
        "X_train, Y_train = np.array(X_train), np.array(Y_train)"
      ],
      "metadata": {
        "id": "l04YSxZlJJod"
      },
      "execution_count": 20,
      "outputs": []
    },
    {
      "cell_type": "code",
      "source": [
        "X_train.shape"
      ],
      "metadata": {
        "colab": {
          "base_uri": "https://localhost:8080/"
        },
        "id": "-qYjUSYrLYfG",
        "outputId": "dcd7a11b-1696-42de-d48e-1b7d808412bc"
      },
      "execution_count": 21,
      "outputs": [
        {
          "output_type": "execute_result",
          "data": {
            "text/plain": [
              "(1960, 52)"
            ]
          },
          "metadata": {},
          "execution_count": 21
        }
      ]
    },
    {
      "cell_type": "code",
      "source": [
        "Y_train.shape"
      ],
      "metadata": {
        "colab": {
          "base_uri": "https://localhost:8080/"
        },
        "id": "rMaWfoHvLYcg",
        "outputId": "b2738281-1367-4b46-a310-d26cfcc90d7f"
      },
      "execution_count": 22,
      "outputs": [
        {
          "output_type": "execute_result",
          "data": {
            "text/plain": [
              "(1960,)"
            ]
          },
          "metadata": {},
          "execution_count": 22
        }
      ]
    },
    {
      "cell_type": "code",
      "source": [
        "#Reshape X_train\n",
        "X_train = np.reshape(X_train, (X_train.shape[0],X_train.shape[1],1))\n",
        "X_train.shape"
      ],
      "metadata": {
        "colab": {
          "base_uri": "https://localhost:8080/"
        },
        "id": "NvqQLBAGLYZm",
        "outputId": "05b443d8-9e58-4512-d65f-0b6da43905bf"
      },
      "execution_count": 23,
      "outputs": [
        {
          "output_type": "execute_result",
          "data": {
            "text/plain": [
              "(1960, 52, 1)"
            ]
          },
          "metadata": {},
          "execution_count": 23
        }
      ]
    },
    {
      "cell_type": "markdown",
      "source": [
        "## Create the LSTM Model"
      ],
      "metadata": {
        "id": "50Wp_EENMLmr"
      }
    },
    {
      "cell_type": "code",
      "source": [
        "#Initialize constructor\n",
        "model = Sequential()\n",
        "\n",
        "#LSTM layer\n",
        "model.add(LSTM(100, input_shape = (52,1)))\n",
        "\n",
        "#Output layer\n",
        "model.add(Dense(1))\n",
        "\n",
        "model.compile(loss='mean_squared_error', optimizer='adam', metrics=['accuracy'])\n",
        "print (model.summary())"
      ],
      "metadata": {
        "colab": {
          "base_uri": "https://localhost:8080/"
        },
        "id": "UezVE90NMBCF",
        "outputId": "6724b027-7c85-4cc3-bbf0-0e586d2aff86"
      },
      "execution_count": 24,
      "outputs": [
        {
          "output_type": "stream",
          "name": "stdout",
          "text": [
            "Model: \"sequential\"\n",
            "_________________________________________________________________\n",
            " Layer (type)                Output Shape              Param #   \n",
            "=================================================================\n",
            " lstm (LSTM)                 (None, 100)               40800     \n",
            "                                                                 \n",
            " dense (Dense)               (None, 1)                 101       \n",
            "                                                                 \n",
            "=================================================================\n",
            "Total params: 40901 (159.77 KB)\n",
            "Trainable params: 40901 (159.77 KB)\n",
            "Non-trainable params: 0 (0.00 Byte)\n",
            "_________________________________________________________________\n",
            "None\n"
          ]
        }
      ]
    },
    {
      "cell_type": "code",
      "source": [
        "# W 1 x 100 , b 1 x 1\n",
        "1*100+1"
      ],
      "metadata": {
        "colab": {
          "base_uri": "https://localhost:8080/"
        },
        "id": "Arv__wRCOz0I",
        "outputId": "8cc8f900-3973-4dd6-9dad-f0162a287c42"
      },
      "execution_count": 25,
      "outputs": [
        {
          "output_type": "execute_result",
          "data": {
            "text/plain": [
              "101"
            ]
          },
          "metadata": {},
          "execution_count": 25
        }
      ]
    },
    {
      "cell_type": "code",
      "source": [
        "# [ h_{t-1}, x] -- 128+1(x), h,c are of dimension 128 x 1\n",
        "(100*(100+1) +100)*4 #4 gates that we have in LSTM"
      ],
      "metadata": {
        "colab": {
          "base_uri": "https://localhost:8080/"
        },
        "id": "VZ3xkjMwQs5o",
        "outputId": "2c8c3eb1-8822-4c32-dade-63d6e2f01e62"
      },
      "execution_count": 26,
      "outputs": [
        {
          "output_type": "execute_result",
          "data": {
            "text/plain": [
              "40800"
            ]
          },
          "metadata": {},
          "execution_count": 26
        }
      ]
    },
    {
      "cell_type": "code",
      "source": [
        "#fit the model to the training set\n",
        "history = model.fit(X_train,Y_train,epochs=50,batch_size=32,validation_split=0.2)\n"
      ],
      "metadata": {
        "colab": {
          "base_uri": "https://localhost:8080/"
        },
        "id": "pDWA5RFtQ1Za",
        "outputId": "8e454443-1baa-4e93-b53b-dc54c4984438"
      },
      "execution_count": 27,
      "outputs": [
        {
          "output_type": "stream",
          "name": "stdout",
          "text": [
            "Epoch 1/50\n",
            "49/49 [==============================] - 4s 43ms/step - loss: 0.0275 - accuracy: 6.3776e-04 - val_loss: 0.0090 - val_accuracy: 0.0026\n",
            "Epoch 2/50\n",
            "49/49 [==============================] - 2s 31ms/step - loss: 0.0014 - accuracy: 6.3776e-04 - val_loss: 0.0042 - val_accuracy: 0.0026\n",
            "Epoch 3/50\n",
            "49/49 [==============================] - 1s 30ms/step - loss: 9.4924e-04 - accuracy: 6.3776e-04 - val_loss: 0.0017 - val_accuracy: 0.0026\n",
            "Epoch 4/50\n",
            "49/49 [==============================] - 2s 31ms/step - loss: 8.2292e-04 - accuracy: 6.3776e-04 - val_loss: 0.0011 - val_accuracy: 0.0026\n",
            "Epoch 5/50\n",
            "49/49 [==============================] - 2s 48ms/step - loss: 8.0015e-04 - accuracy: 6.3776e-04 - val_loss: 0.0011 - val_accuracy: 0.0026\n",
            "Epoch 6/50\n",
            "49/49 [==============================] - 2s 33ms/step - loss: 7.8147e-04 - accuracy: 6.3776e-04 - val_loss: 9.3500e-04 - val_accuracy: 0.0026\n",
            "Epoch 7/50\n",
            "49/49 [==============================] - 2s 31ms/step - loss: 7.4864e-04 - accuracy: 6.3776e-04 - val_loss: 9.2655e-04 - val_accuracy: 0.0026\n",
            "Epoch 8/50\n",
            "49/49 [==============================] - 2s 41ms/step - loss: 7.3205e-04 - accuracy: 6.3776e-04 - val_loss: 9.1905e-04 - val_accuracy: 0.0026\n",
            "Epoch 9/50\n",
            "49/49 [==============================] - 3s 59ms/step - loss: 7.7256e-04 - accuracy: 6.3776e-04 - val_loss: 7.1189e-04 - val_accuracy: 0.0026\n",
            "Epoch 10/50\n",
            "49/49 [==============================] - 3s 55ms/step - loss: 6.9086e-04 - accuracy: 6.3776e-04 - val_loss: 8.1793e-04 - val_accuracy: 0.0026\n",
            "Epoch 11/50\n",
            "49/49 [==============================] - 2s 43ms/step - loss: 6.8475e-04 - accuracy: 6.3776e-04 - val_loss: 5.5374e-04 - val_accuracy: 0.0026\n",
            "Epoch 12/50\n",
            "49/49 [==============================] - 2s 33ms/step - loss: 6.7735e-04 - accuracy: 6.3776e-04 - val_loss: 6.6065e-04 - val_accuracy: 0.0026\n",
            "Epoch 13/50\n",
            "49/49 [==============================] - 2s 31ms/step - loss: 6.4738e-04 - accuracy: 6.3776e-04 - val_loss: 7.3835e-04 - val_accuracy: 0.0026\n",
            "Epoch 14/50\n",
            "49/49 [==============================] - 1s 30ms/step - loss: 6.2632e-04 - accuracy: 6.3776e-04 - val_loss: 6.6281e-04 - val_accuracy: 0.0026\n",
            "Epoch 15/50\n",
            "49/49 [==============================] - 2s 31ms/step - loss: 6.2773e-04 - accuracy: 6.3776e-04 - val_loss: 5.3071e-04 - val_accuracy: 0.0026\n",
            "Epoch 16/50\n",
            "49/49 [==============================] - 1s 30ms/step - loss: 6.0276e-04 - accuracy: 6.3776e-04 - val_loss: 5.3155e-04 - val_accuracy: 0.0026\n",
            "Epoch 17/50\n",
            "49/49 [==============================] - 2s 31ms/step - loss: 5.8530e-04 - accuracy: 6.3776e-04 - val_loss: 5.1749e-04 - val_accuracy: 0.0026\n",
            "Epoch 18/50\n",
            "49/49 [==============================] - 2s 36ms/step - loss: 5.9939e-04 - accuracy: 6.3776e-04 - val_loss: 6.0034e-04 - val_accuracy: 0.0026\n",
            "Epoch 19/50\n",
            "49/49 [==============================] - 2s 48ms/step - loss: 5.6244e-04 - accuracy: 6.3776e-04 - val_loss: 4.0876e-04 - val_accuracy: 0.0026\n",
            "Epoch 20/50\n",
            "49/49 [==============================] - 2s 32ms/step - loss: 5.5713e-04 - accuracy: 6.3776e-04 - val_loss: 4.4709e-04 - val_accuracy: 0.0026\n",
            "Epoch 21/50\n",
            "49/49 [==============================] - 2s 31ms/step - loss: 6.0826e-04 - accuracy: 6.3776e-04 - val_loss: 4.8867e-04 - val_accuracy: 0.0026\n",
            "Epoch 22/50\n",
            "49/49 [==============================] - 2s 31ms/step - loss: 5.3036e-04 - accuracy: 6.3776e-04 - val_loss: 4.0769e-04 - val_accuracy: 0.0026\n",
            "Epoch 23/50\n",
            "49/49 [==============================] - 2s 31ms/step - loss: 5.0456e-04 - accuracy: 6.3776e-04 - val_loss: 3.9942e-04 - val_accuracy: 0.0026\n",
            "Epoch 24/50\n",
            "49/49 [==============================] - 2s 31ms/step - loss: 5.0870e-04 - accuracy: 6.3776e-04 - val_loss: 3.9812e-04 - val_accuracy: 0.0026\n",
            "Epoch 25/50\n",
            "49/49 [==============================] - 1s 30ms/step - loss: 4.9125e-04 - accuracy: 6.3776e-04 - val_loss: 3.4555e-04 - val_accuracy: 0.0026\n",
            "Epoch 26/50\n",
            "49/49 [==============================] - 2s 40ms/step - loss: 4.8327e-04 - accuracy: 6.3776e-04 - val_loss: 3.7519e-04 - val_accuracy: 0.0026\n",
            "Epoch 27/50\n",
            "49/49 [==============================] - 2s 43ms/step - loss: 4.9738e-04 - accuracy: 6.3776e-04 - val_loss: 3.4677e-04 - val_accuracy: 0.0026\n",
            "Epoch 28/50\n",
            "49/49 [==============================] - 2s 31ms/step - loss: 4.7537e-04 - accuracy: 6.3776e-04 - val_loss: 4.0888e-04 - val_accuracy: 0.0026\n",
            "Epoch 29/50\n",
            "49/49 [==============================] - 2s 31ms/step - loss: 4.6392e-04 - accuracy: 6.3776e-04 - val_loss: 3.3770e-04 - val_accuracy: 0.0026\n",
            "Epoch 30/50\n",
            "49/49 [==============================] - 2s 32ms/step - loss: 4.6469e-04 - accuracy: 6.3776e-04 - val_loss: 3.3476e-04 - val_accuracy: 0.0026\n",
            "Epoch 31/50\n",
            "49/49 [==============================] - 2s 32ms/step - loss: 4.6154e-04 - accuracy: 6.3776e-04 - val_loss: 3.0411e-04 - val_accuracy: 0.0026\n",
            "Epoch 32/50\n",
            "49/49 [==============================] - 2s 31ms/step - loss: 4.5651e-04 - accuracy: 6.3776e-04 - val_loss: 3.4036e-04 - val_accuracy: 0.0026\n",
            "Epoch 33/50\n",
            "49/49 [==============================] - 2s 31ms/step - loss: 4.1780e-04 - accuracy: 6.3776e-04 - val_loss: 3.1134e-04 - val_accuracy: 0.0026\n",
            "Epoch 34/50\n",
            "49/49 [==============================] - 2s 44ms/step - loss: 4.4894e-04 - accuracy: 6.3776e-04 - val_loss: 2.7851e-04 - val_accuracy: 0.0026\n",
            "Epoch 35/50\n",
            "49/49 [==============================] - 2s 39ms/step - loss: 4.1611e-04 - accuracy: 6.3776e-04 - val_loss: 2.7788e-04 - val_accuracy: 0.0026\n",
            "Epoch 36/50\n",
            "49/49 [==============================] - 2s 31ms/step - loss: 4.1233e-04 - accuracy: 6.3776e-04 - val_loss: 3.0924e-04 - val_accuracy: 0.0026\n",
            "Epoch 37/50\n",
            "49/49 [==============================] - 2s 32ms/step - loss: 4.2358e-04 - accuracy: 6.3776e-04 - val_loss: 3.3424e-04 - val_accuracy: 0.0026\n",
            "Epoch 38/50\n",
            "49/49 [==============================] - 2s 31ms/step - loss: 4.0281e-04 - accuracy: 6.3776e-04 - val_loss: 2.8107e-04 - val_accuracy: 0.0026\n",
            "Epoch 39/50\n",
            "49/49 [==============================] - 2s 32ms/step - loss: 3.9312e-04 - accuracy: 6.3776e-04 - val_loss: 3.0354e-04 - val_accuracy: 0.0026\n",
            "Epoch 40/50\n",
            "49/49 [==============================] - 1s 30ms/step - loss: 3.8132e-04 - accuracy: 6.3776e-04 - val_loss: 2.7629e-04 - val_accuracy: 0.0026\n",
            "Epoch 41/50\n",
            "49/49 [==============================] - 2s 31ms/step - loss: 3.9604e-04 - accuracy: 6.3776e-04 - val_loss: 2.5876e-04 - val_accuracy: 0.0026\n",
            "Epoch 42/50\n",
            "49/49 [==============================] - 2s 47ms/step - loss: 4.1074e-04 - accuracy: 6.3776e-04 - val_loss: 2.6706e-04 - val_accuracy: 0.0026\n",
            "Epoch 43/50\n",
            "49/49 [==============================] - 2s 35ms/step - loss: 3.8486e-04 - accuracy: 6.3776e-04 - val_loss: 2.6826e-04 - val_accuracy: 0.0026\n",
            "Epoch 44/50\n",
            "49/49 [==============================] - 2s 31ms/step - loss: 3.8122e-04 - accuracy: 6.3776e-04 - val_loss: 2.8793e-04 - val_accuracy: 0.0026\n",
            "Epoch 45/50\n",
            "49/49 [==============================] - 2s 32ms/step - loss: 3.9349e-04 - accuracy: 6.3776e-04 - val_loss: 2.7465e-04 - val_accuracy: 0.0026\n",
            "Epoch 46/50\n",
            "49/49 [==============================] - 2s 31ms/step - loss: 3.9765e-04 - accuracy: 6.3776e-04 - val_loss: 2.7386e-04 - val_accuracy: 0.0026\n",
            "Epoch 47/50\n",
            "49/49 [==============================] - 2s 31ms/step - loss: 3.4852e-04 - accuracy: 6.3776e-04 - val_loss: 2.5242e-04 - val_accuracy: 0.0026\n",
            "Epoch 48/50\n",
            "49/49 [==============================] - 2s 32ms/step - loss: 3.5074e-04 - accuracy: 6.3776e-04 - val_loss: 2.3960e-04 - val_accuracy: 0.0026\n",
            "Epoch 49/50\n",
            "49/49 [==============================] - 2s 35ms/step - loss: 4.1675e-04 - accuracy: 6.3776e-04 - val_loss: 2.3035e-04 - val_accuracy: 0.0026\n",
            "Epoch 50/50\n",
            "49/49 [==============================] - 2s 46ms/step - loss: 3.6132e-04 - accuracy: 6.3776e-04 - val_loss: 2.4197e-04 - val_accuracy: 0.0026\n"
          ]
        }
      ]
    },
    {
      "cell_type": "code",
      "source": [
        "#prepare the testing data\n",
        "\n",
        "#Scaling the training data\n",
        "sc = MinMaxScaler(feature_range=(0,1))\n",
        "scaled_testing_data = sc.fit_transform(testing_data)"
      ],
      "metadata": {
        "id": "BWzsPGiYT4mS"
      },
      "execution_count": 28,
      "outputs": []
    },
    {
      "cell_type": "code",
      "source": [
        "scaled_testing_data.shape"
      ],
      "metadata": {
        "colab": {
          "base_uri": "https://localhost:8080/"
        },
        "id": "awjvKi6pV-Y1",
        "outputId": "b10f60cc-2b96-4df0-faec-bbe86f84b89c"
      },
      "execution_count": 29,
      "outputs": [
        {
          "output_type": "execute_result",
          "data": {
            "text/plain": [
              "(250, 2)"
            ]
          },
          "metadata": {},
          "execution_count": 29
        }
      ]
    },
    {
      "cell_type": "code",
      "source": [
        "#Split the testing data into x and y train\n",
        "X_test = []\n",
        "Y_test = []\n",
        "\n",
        "for i in range(52,250):\n",
        "  X_test.append(scaled_testing_data[i-52:i,0])\n",
        "  Y_test.append(scaled_testing_data[i,0])\n",
        "\n",
        "X_test, Y_test = np.array(X_test), np.array(Y_test)"
      ],
      "metadata": {
        "id": "TD2Mg-j1WKny"
      },
      "execution_count": 30,
      "outputs": []
    },
    {
      "cell_type": "code",
      "source": [
        "X_test.shape"
      ],
      "metadata": {
        "colab": {
          "base_uri": "https://localhost:8080/"
        },
        "id": "SLdgYpMMW4Ax",
        "outputId": "ef175102-d229-40db-f9c1-57dfb6d44edc"
      },
      "execution_count": 31,
      "outputs": [
        {
          "output_type": "execute_result",
          "data": {
            "text/plain": [
              "(198, 52)"
            ]
          },
          "metadata": {},
          "execution_count": 31
        }
      ]
    },
    {
      "cell_type": "code",
      "source": [
        "Y_test.shape"
      ],
      "metadata": {
        "colab": {
          "base_uri": "https://localhost:8080/"
        },
        "id": "FnKjFs2oW3z9",
        "outputId": "c7bad3d6-86cb-4f17-9a53-7b4a0a5c2aaa"
      },
      "execution_count": 32,
      "outputs": [
        {
          "output_type": "execute_result",
          "data": {
            "text/plain": [
              "(198,)"
            ]
          },
          "metadata": {},
          "execution_count": 32
        }
      ]
    },
    {
      "cell_type": "code",
      "source": [
        "#Reshape X_test\n",
        "X_test = np.reshape(X_test, (X_test.shape[0],X_test.shape[1],1))\n",
        "X_test.shape"
      ],
      "metadata": {
        "colab": {
          "base_uri": "https://localhost:8080/"
        },
        "id": "FFZves7zW3w3",
        "outputId": "ecbd72e3-6915-4b72-c8ef-e96c6f43ddf4"
      },
      "execution_count": 33,
      "outputs": [
        {
          "output_type": "execute_result",
          "data": {
            "text/plain": [
              "(198, 52, 1)"
            ]
          },
          "metadata": {},
          "execution_count": 33
        }
      ]
    },
    {
      "cell_type": "code",
      "source": [
        "#Reshape Y_test\n",
        "Y_test = np.reshape(Y_test,(-1,1))\n",
        "Y_test.shape"
      ],
      "metadata": {
        "colab": {
          "base_uri": "https://localhost:8080/"
        },
        "id": "LCU2_MNTXGZ2",
        "outputId": "036bc4f4-bb8f-4bef-9a6f-7ab00530a780"
      },
      "execution_count": 34,
      "outputs": [
        {
          "output_type": "execute_result",
          "data": {
            "text/plain": [
              "(198, 1)"
            ]
          },
          "metadata": {},
          "execution_count": 34
        }
      ]
    },
    {
      "cell_type": "code",
      "source": [
        "#predictions with X_test data\n",
        "predicted_stock_price = model.predict(X_test)\n",
        "predicted_stock_price.shape"
      ],
      "metadata": {
        "colab": {
          "base_uri": "https://localhost:8080/"
        },
        "id": "_p3Kn5sWXbOE",
        "outputId": "b52356ad-5187-4916-b8e0-052c3733fe89"
      },
      "execution_count": 35,
      "outputs": [
        {
          "output_type": "stream",
          "name": "stdout",
          "text": [
            "7/7 [==============================] - 0s 11ms/step\n"
          ]
        },
        {
          "output_type": "execute_result",
          "data": {
            "text/plain": [
              "(198, 1)"
            ]
          },
          "metadata": {},
          "execution_count": 35
        }
      ]
    },
    {
      "cell_type": "markdown",
      "source": [
        "## Rate performance"
      ],
      "metadata": {
        "id": "MmnChKACktOo"
      }
    },
    {
      "cell_type": "code",
      "source": [
        "#Evaluating Model Performance\n",
        "import math\n",
        "from sklearn.metrics import mean_squared_error\n",
        "rmse = math.sqrt(mean_squared_error(Y_test, predicted_stock_price))\n",
        "print(rmse)"
      ],
      "metadata": {
        "colab": {
          "base_uri": "https://localhost:8080/"
        },
        "id": "O6cGgpCtdk8H",
        "outputId": "494bc36c-1b7f-4d32-bceb-c68b627b4f17"
      },
      "execution_count": 36,
      "outputs": [
        {
          "output_type": "stream",
          "name": "stdout",
          "text": [
            "0.07183844270237526\n"
          ]
        }
      ]
    },
    {
      "cell_type": "code",
      "source": [
        "#LSTM Model\n",
        "plt.figure(figsize =(10,5))\n",
        "plt.plot(history.history[\"loss\"])\n",
        "plt.xlabel(\"Epochs\")\n",
        "plt.ylabel(\"Losses\")\n",
        "plt.title(\"LSTM model, Accuracy vs Epoch\")\n",
        "plt.show()\n"
      ],
      "metadata": {
        "colab": {
          "base_uri": "https://localhost:8080/",
          "height": 488
        },
        "id": "oUYzymBuROou",
        "outputId": "ac4579e9-f467-4857-9cc2-853efefa419c"
      },
      "execution_count": 37,
      "outputs": [
        {
          "output_type": "display_data",
          "data": {
            "text/plain": [
              "<Figure size 1000x500 with 1 Axes>"
            ],
            "image/png": "[encoded data removed]"
          },
          "metadata": {}
        }
      ]
    },
    {
      "cell_type": "code",
      "source": [
        "#Visualize the results of LSTM\n",
        "\n",
        "plt.figure(figsize = (30,10))\n",
        "plt.plot(predicted_stock_price, label = \"predicted_stock_price\", c = \"orange\")\n",
        "plt.plot(Y_test, label = \"y_test\", c = \"g\")\n",
        "plt.xlabel(\"Days\")\n",
        "plt.ylabel(\"price\")\n",
        "plt.title(\"Prediction with input X_test vs y_test\")\n",
        "plt.legend()\n",
        "plt.show()"
      ],
      "metadata": {
        "colab": {
          "base_uri": "https://localhost:8080/",
          "height": 874
        },
        "id": "zji9jXqAZ-Bs",
        "outputId": "7a4fff53-ed4d-4266-ba86-1795d2cec152"
      },
      "execution_count": 38,
      "outputs": [
        {
          "output_type": "display_data",
          "data": {
            "text/plain": [
              "<Figure size 3000x1000 with 1 Axes>"
            ],
            "image/png": "[encoded data removed]"
          },
          "metadata": {}
        }
      ]
    },
    {
      "cell_type": "markdown",
      "source": [
        "Root Mean Squared Error (RMSE) measures the average difference between the values predicted and the actual model. It provides information of how well the model is able to predict the actual values.\n",
        "\n",
        "A RMSE squar of 0 tells that the model has perfectly predicted the actual values. My RMSE score is 0.07 which means that it is closer to zero and that the model is pretty accurate in predicting the price.\n",
        "\n",
        "The graph above shows that the actual predicted price depicted by Y_test and the predicted stock price given by the model is almost the same which states that the model has a good accuracy rating."
      ],
      "metadata": {
        "id": "I_Kzazv5je1M"
      }
    },
    {
      "cell_type": "code",
      "source": [],
      "metadata": {
        "id": "pzkt5_5PlBvP"
      },
      "execution_count": null,
      "outputs": []
    }
  ]
}